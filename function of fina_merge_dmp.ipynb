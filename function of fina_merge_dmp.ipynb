{
 "cells": [
  {
   "cell_type": "code",
   "execution_count": 34,
   "metadata": {},
   "outputs": [],
   "source": [
    "def merge(names,nodes,delnodes,merged):\n",
    "    \n",
    "    #import librarys.\n",
    "    import csv  \n",
    "    import pandas as pd\n",
    "    \n",
    "    #create empty DataFrame df_names and df_nodes.\n",
    "    df_names = pd.DataFrame()\n",
    "    df_nodes = pd.DataFrame()\n",
    "    \n",
    "    #read .dmp files with use of parameters.\n",
    "    df_names = pd.read_csv(names,delimiter='\\t',header=None)\n",
    "    df_nodes = pd.read_csv(nodes,delimiter='\\t',header=None)\n",
    "    \n",
    "    #collect usefull columns from DataFrames.\n",
    "    df_nodes = df_nodes[[0,2,4]] \n",
    "    df_names = df_names[[0, 2, 6]]\n",
    "    \n",
    "    #apply key on column 6 in df_named and extract column 0 and 2.\n",
    "    df_names = df_names[df_names[6]=='scientific name'][[0,2]]\n",
    "    \n",
    "    #lenth of dataframe in range(.....).\n",
    "    df_names.index = range(df_nodes)\n",
    "    \n",
    "    #merge both DataFrames df_nodes and df_names in new DataFrame df_merge.\n",
    "    df_merge = pd.DataFrame()\n",
    "    df_merge = df_nodes.merge(df_names[[0,2]],how = \"left\",left_on = [0],right_on= [0])\n",
    "    \n",
    "    #rename columns of DataFrame df_merge.\n",
    "    df_merge = df_merge.rename(columns={0:'taxa_ids','2_x':'parent_id',4:'rank','2_y':'scientfic_name'})\n",
    "    \n",
    "    #create empty DataFrame df_delnodes and df_merged.\n",
    "    df_delnodes = pd.DataFrame()\n",
    "    df_merged = pd.DataFrame()\n",
    "    #read .dmp files with use of parameters.\n",
    "    df_delnodes = pd.read_csv(delnodes,delimiter='\\t',header=None)\n",
    "    df_merged = pd.read_csv(merged,delimiter='\\t',header=None)\n",
    "    \n",
    "    #creat two empty lists taxaid and taxaids assign them with set of df_merge['taxa_ids'] and df_merged[0].\n",
    "    taxaid = list(set(df_merge['taxa_ids']))\n",
    "    taxaids = list(set(df_merged[0]))\n",
    "    \n",
    "    #print common values in lists.\n",
    "    print(\"modified values are\",list(set(taxaid) & set(taxaids)))\n",
    "    \n",
    "\n",
    "    #convert DataFrame in .csv formate and assign to file_csv .\n",
    "    file_csv = df_merge.to_csv(\"final_merge.csv\")\n",
    "    print (\"csv file created as final_merge.csv\")\n",
    "    #return file_csv\n",
    "    return file_csv, len(df_merge)    "
   ]
  },
  {
   "cell_type": "code",
   "execution_count": 35,
   "metadata": {},
   "outputs": [
    {
     "name": "stdout",
     "output_type": "stream",
     "text": [
      "modified values are []\n",
      "csv file created as final_merge.csv\n"
     ]
    }
   ],
   "source": [
    "#pass path of .dmp files in parameters.\n",
    "merge(names = '/home/acer1/Desktop/taxadmp/names.dmp',nodes = '/home/acer1/Desktop/taxadmp/nodes.dmp',merged = '/home/acer1/Desktop/taxadmp/merged.dmp',delnodes = '/home/acer1/Desktop/taxadmp/delnodes.dmp')"
   ]
  },
  {
   "cell_type": "code",
   "execution_count": null,
   "metadata": {},
   "outputs": [],
   "source": []
  }
 ],
 "metadata": {
  "kernelspec": {
   "display_name": "Python 3",
   "language": "python",
   "name": "python3"
  },
  "language_info": {
   "codemirror_mode": {
    "name": "ipython",
    "version": 3
   },
   "file_extension": ".py",
   "mimetype": "text/x-python",
   "name": "python",
   "nbconvert_exporter": "python",
   "pygments_lexer": "ipython3",
   "version": "3.6.5"
  }
 },
 "nbformat": 4,
 "nbformat_minor": 2
}
