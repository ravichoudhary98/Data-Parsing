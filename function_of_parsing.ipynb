{
 "cells": [
  {
   "cell_type": "code",
   "execution_count": 18,
   "metadata": {},
   "outputs": [],
   "source": [
    "def final(names,nodes,delnodes,merged):\n",
    "    #import librarys.\n",
    "    import csv  \n",
    "    import pandas as pd\n",
    "    \n",
    "    #create empty DataFrame df_names and df_nodes.\n",
    "    df_names = pd.DataFrame()\n",
    "    df_nodes = pd.DataFrame()\n",
    "    \n",
    "    #read .dmp files with use of parameters.\n",
    "    df_names = pd.read_csv(\"taxadmp/names.dmp\",delimiter='\\t',header=None)\n",
    "    df_nodes = pd.read_csv(\"taxadmp/nodes.dmp\",delimiter='\\t',header=None)\n",
    "    \n",
    "    #collect usefull columns from DataFrames.\n",
    "    df_nodes = df_nodes[[0,2,4]] \n",
    "    df_names = df_names[[0, 2, 6]]\n",
    "    \n",
    "    #apply key on column 6 in df_named and extract column 0 and 2.\n",
    "    df_names = df_names[df_names[6]=='scientific name'][[0,2]]\n",
    "    \n",
    "    #lenth of dataframe in range(.....).\n",
    "    df_names.index = range(len(df_nodes))\n",
    "\n",
    "    df_delnodes = pd.DataFrame()\n",
    "    df_merged = pd.DataFrame()\n",
    "    #read .dmp files with use of parameters.\n",
    "    df_delnodes = pd.read_csv(\"taxadmp/delnodes.dmp\",delimiter='\\t',header=None)\n",
    "    df_merged = pd.read_csv(\"taxadmp/merged.dmp\",delimiter='\\t',header=None)\n",
    "    df_merge = pd.DataFrame()\n",
    "    df_merge = df_nodes.merge(df_names[[0,2]],how = \"left\",left_on = [0],right_on= [0])\n",
    "    \n",
    "    #rename columns of DataFrame df_merge.\n",
    "    df_merge = df_merge.rename(columns={0:'taxa_ids','2_x':'parent_id',4:'rank','2_y':'scientfic_name'}) \n",
    "    merger_key_value = {}\n",
    "    \n",
    "    for i in range(0,len(df_merged[0])):\n",
    "        merger_key_value[df_merged[0][i]] = df_merged[2][i]\n",
    "    \n",
    "    for j in range(0,len(df_merge['taxa_ids'])):\n",
    "        if df_merge['taxa_ids'][j] == merger_key_value:\n",
    "            df_merge['taxa_ids'][j]<-merger_key_value\n",
    "        \n",
    "    \"\"\"#creat two empty lists taxaid and taxaids assign them with set of df_merge['taxa_ids'] and df_merged[0].\n",
    "    taxaid = list(set(df_merge['taxa_ids']))\n",
    "    taxaids = list(set(df_merged[0]))\n",
    "    \n",
    "    #print common values in lists.\n",
    "    print(\"modified values are\",list(set(taxaid) & set(taxaids)))\n",
    "    \"\"\"\n",
    "\n",
    "    #convert DataFrame in .csv formate and assign to file_csv .\n",
    "    file_csv = df_merge.to_csv(\"final_file.csv\")\n",
    "    print (\"csv file created as final_file.csv\")\n",
    "    \n",
    "    #return file_csv\n",
    "    return file_csv"
   ]
  },
  {
   "cell_type": "code",
   "execution_count": 19,
   "metadata": {},
   "outputs": [
    {
     "name": "stdout",
     "output_type": "stream",
     "text": [
      "csv file created as final_file.csv\n"
     ]
    }
   ],
   "source": [
    "#pass path of .dmp files in parameters.\n",
    "x = final(names = 'taxadmp/names.dmp',nodes = 'taxadmp/nodes.dmp',merged = 'taxadmp/merged.dmp',delnodes = 'taxadmp/delnodes.dmp')"
   ]
  },
  {
   "cell_type": "code",
   "execution_count": null,
   "metadata": {},
   "outputs": [],
   "source": []
  }
 ],
 "metadata": {
  "kernelspec": {
   "display_name": "Python 2",
   "language": "python",
   "name": "python2"
  },
  "language_info": {
   "codemirror_mode": {
    "name": "ipython",
    "version": 2
   },
   "file_extension": ".py",
   "mimetype": "text/x-python",
   "name": "python",
   "nbconvert_exporter": "python",
   "pygments_lexer": "ipython2",
   "version": "2.7.15rc1"
  }
 },
 "nbformat": 4,
 "nbformat_minor": 2
}
